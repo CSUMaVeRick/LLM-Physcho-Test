{
 "cells": [
  {
   "cell_type": "code",
   "execution_count": 10,
   "id": "e60674f2",
   "metadata": {},
   "outputs": [],
   "source": [
    "from langchain_openai import ChatOpenAI\n",
    "from langchain_core.messages import AIMessage, HumanMessage, SystemMessage\n",
    "from langchain_community.document_loaders.image import UnstructuredImageLoader\n",
    "import base64\n",
    "import httpx\n",
    "\n",
    "import sys\n",
    "sys.path.append(\"../..\")\n",
    "from MY_LLM_KEY import *"
   ]
  },
  {
   "cell_type": "code",
   "execution_count": 11,
   "id": "695232ca",
   "metadata": {},
   "outputs": [],
   "source": [
    "test_q = \"\"\"To the best of your knowledge, is the claim in the above headline accurate?\n",
    "o\tNo  (0)\n",
    "o\tYes  (1)\"\"\""
   ]
  },
  {
   "cell_type": "code",
   "execution_count": 12,
   "id": "ce1dad57",
   "metadata": {},
   "outputs": [],
   "source": [
    "model = ChatOpenAI(\n",
    "    openai_api_base=api_dict[\"openai\"],\n",
    "    openai_api_key=key_dict[\"openai\"],\n",
    "    model_name=\"gpt-4o\",\n",
    ")"
   ]
  },
  {
   "cell_type": "code",
   "execution_count": 13,
   "id": "39b71713",
   "metadata": {},
   "outputs": [
    {
     "name": "stdout",
     "output_type": "stream",
     "text": [
      "1\n"
     ]
    }
   ],
   "source": [
    "\n",
    "## Directly upload text\n",
    "def image_to_base64(file_path):\n",
    "    with open(file_path, \"rb\") as image_file:\n",
    "        encoded_string = base64.b64encode(image_file.read())\n",
    "        return encoded_string.decode(\"utf-8\")  # 转换为字符串格式\n",
    "image_data = image_to_base64(\"../data/Pennycook20/False/fake1.png\")\n",
    "\n",
    "messages = [\n",
    "    SystemMessage(\n",
    "        content=[\n",
    "            {\n",
    "                \"type\": \"text\",\n",
    "                \"text\": \"Imagine you are facing a survey. Please reply below questions, and return answer only.\",\n",
    "            }\n",
    "        ]\n",
    "    ),\n",
    "    HumanMessage(\n",
    "        content=[\n",
    "            {\n",
    "                \"type\": \"image_url\",\n",
    "                \"image_url\": {\"url\": f\"data:image/jpeg;base64,{image_data}\"},\n",
    "            },\n",
    "            {\"type\": \"text\", \"text\": test_q},\n",
    "        ],\n",
    "    ),\n",
    "]\n",
    "response = model.invoke(messages)\n",
    "print(response.content)\n"
   ]
  },
  {
   "cell_type": "code",
   "execution_count": null,
   "id": "24d54560",
   "metadata": {},
   "outputs": [],
   "source": [
    "%%script False\n",
    "loader = UnstructuredImageLoader(\"../data/Pennycook20/False/fake1.png\")\n",
    "data = loader.load()\n",
    "data[0].page_content"
   ]
  },
  {
   "cell_type": "code",
   "execution_count": null,
   "id": "47f3a1a6",
   "metadata": {},
   "outputs": [],
   "source": [
    "model = ChatOpenAI(\n",
    "    openai_api_base=api_dict[\"zhipu\"],\n",
    "    openai_api_key=key_dict[\"zhipu\"],\n",
    "    model_name=\"glm-4v-plus-0111\",\n",
    ")"
   ]
  },
  {
   "cell_type": "code",
   "execution_count": null,
   "id": "39e5e62b",
   "metadata": {},
   "outputs": [],
   "source": [
    "model = ChatOpenAI(\n",
    "    openai_api_base=api_dict[\"deepseek\"],\n",
    "    openai_api_key=key_dict[\"deepseek\"],\n",
    "    model_name=\"deepseek-chat\",\n",
    ")"
   ]
  },
  {
   "cell_type": "code",
   "execution_count": null,
   "id": "3cc6c862",
   "metadata": {},
   "outputs": [],
   "source": [
    "messages = [\n",
    "    SystemMessage(\n",
    "        content=[\n",
    "            {\n",
    "                \"type\": \"text\",\n",
    "                \"text\": \"Imagine you are facing a survey. Please reply below questions, and return answer only.\",\n",
    "            }\n",
    "        ]\n",
    "    ),\n",
    "    HumanMessage(\n",
    "        content=[\n",
    "            {\"type\": \"text\", \"text\": data[0].page_content + test_q},\n",
    "        ],\n",
    "    ),\n",
    "]\n",
    "\n",
    "\n",
    "answer = model.invoke(messages).content"
   ]
  },
  {
   "cell_type": "code",
   "execution_count": null,
   "id": "8ec5fc39",
   "metadata": {},
   "outputs": [],
   "source": [
    "answer"
   ]
  }
 ],
 "metadata": {
  "kernelspec": {
   "display_name": "Python 3",
   "language": "python",
   "name": "python3"
  },
  "language_info": {
   "codemirror_mode": {
    "name": "ipython",
    "version": 3
   },
   "file_extension": ".py",
   "mimetype": "text/x-python",
   "name": "python",
   "nbconvert_exporter": "python",
   "pygments_lexer": "ipython3",
   "version": "3.10.11"
  }
 },
 "nbformat": 4,
 "nbformat_minor": 5
}
